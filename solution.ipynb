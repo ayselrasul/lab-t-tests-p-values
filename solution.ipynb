{
 "cells": [
  {
   "cell_type": "markdown",
   "id": "ad1b1876",
   "metadata": {},
   "source": [
    "# Lab | Inferential statistics - T-test & P-value"
   ]
  },
  {
   "cell_type": "markdown",
   "id": "a9563421",
   "metadata": {},
   "source": [
    "Instructions\n",
    "\n",
    "1.We will have another simple example on two sample t test (pooled- when the variances are equal). But this time this is a one sided t-test\n",
    "\n",
    " In a packing plant, a machine packs cartons with jars. It is supposed that a new machine will pack faster on the average than the machine currently used. To test that hypothesis, the times it takes each machine to pack ten cartons are recorded. The results, in seconds, are shown in the tables in the file files_for_lab/machine.txt. Assume that there is sufficient evidence to conduct the t test, does the data provide sufficient evidence to show if one machine is better than the other\n",
    "\n",
    "2.An additional problem (not mandatory): In this case we can't assume that the population variances are equal. Hence in this case we cannot pool the variances. Independent random samples of 17 sophomores and 13 juniors attending a large university yield the following data on grade point averages. Data is provided in the file files_for_lab/student_gpa.txt. At the 5% significance level, do the data provide sufficient evidence to conclude that the mean GPAs of sophomores and juniors at the university differ?\n",
    "\n",
    "Test statistics can be calculated as: <div>\n",
    "    <img src=\"unpooled_variances.png\" width=\"200\"/>\n",
    "</div>\n",
    "\n",
    "Degrees of freedom is (n1-1)+(n2-1)."
   ]
  },
  {
   "cell_type": "markdown",
   "id": "3981701f",
   "metadata": {},
   "source": [
    "## Import libraries"
   ]
  },
  {
   "cell_type": "code",
   "execution_count": 126,
   "id": "b95c40cf",
   "metadata": {},
   "outputs": [],
   "source": [
    "import pandas as pd\n",
    "import numpy as np\n",
    "import statistics\n",
    "import math\n",
    "from scipy.stats import t\n",
    "from scipy.stats import ttest_ind"
   ]
  },
  {
   "cell_type": "code",
   "execution_count": 127,
   "id": "d959c725",
   "metadata": {},
   "outputs": [
    {
     "data": {
      "text/html": [
       "<div>\n",
       "<style scoped>\n",
       "    .dataframe tbody tr th:only-of-type {\n",
       "        vertical-align: middle;\n",
       "    }\n",
       "\n",
       "    .dataframe tbody tr th {\n",
       "        vertical-align: top;\n",
       "    }\n",
       "\n",
       "    .dataframe thead th {\n",
       "        text-align: right;\n",
       "    }\n",
       "</style>\n",
       "<table border=\"1\" class=\"dataframe\">\n",
       "  <thead>\n",
       "    <tr style=\"text-align: right;\">\n",
       "      <th></th>\n",
       "      <th>new_machine</th>\n",
       "      <th>old_machine</th>\n",
       "    </tr>\n",
       "  </thead>\n",
       "  <tbody>\n",
       "    <tr>\n",
       "      <th>0</th>\n",
       "      <td>42.1</td>\n",
       "      <td>42.7</td>\n",
       "    </tr>\n",
       "    <tr>\n",
       "      <th>1</th>\n",
       "      <td>41.0</td>\n",
       "      <td>43.6</td>\n",
       "    </tr>\n",
       "    <tr>\n",
       "      <th>2</th>\n",
       "      <td>41.3</td>\n",
       "      <td>43.8</td>\n",
       "    </tr>\n",
       "    <tr>\n",
       "      <th>3</th>\n",
       "      <td>41.8</td>\n",
       "      <td>43.3</td>\n",
       "    </tr>\n",
       "    <tr>\n",
       "      <th>4</th>\n",
       "      <td>42.4</td>\n",
       "      <td>42.5</td>\n",
       "    </tr>\n",
       "    <tr>\n",
       "      <th>5</th>\n",
       "      <td>42.8</td>\n",
       "      <td>43.5</td>\n",
       "    </tr>\n",
       "    <tr>\n",
       "      <th>6</th>\n",
       "      <td>43.2</td>\n",
       "      <td>43.1</td>\n",
       "    </tr>\n",
       "    <tr>\n",
       "      <th>7</th>\n",
       "      <td>42.3</td>\n",
       "      <td>41.7</td>\n",
       "    </tr>\n",
       "    <tr>\n",
       "      <th>8</th>\n",
       "      <td>41.8</td>\n",
       "      <td>44.0</td>\n",
       "    </tr>\n",
       "    <tr>\n",
       "      <th>9</th>\n",
       "      <td>42.7</td>\n",
       "      <td>44.1</td>\n",
       "    </tr>\n",
       "  </tbody>\n",
       "</table>\n",
       "</div>"
      ],
      "text/plain": [
       "   new_machine  old_machine\n",
       "0         42.1         42.7\n",
       "1         41.0         43.6\n",
       "2         41.3         43.8\n",
       "3         41.8         43.3\n",
       "4         42.4         42.5\n",
       "5         42.8         43.5\n",
       "6         43.2         43.1\n",
       "7         42.3         41.7\n",
       "8         41.8         44.0\n",
       "9         42.7         44.1"
      ]
     },
     "execution_count": 127,
     "metadata": {},
     "output_type": "execute_result"
    }
   ],
   "source": [
    "df = pd.read_csv('files_for_lab/machine-new.csv')\n",
    "df.columns = ['new_machine', 'old_machine']\n",
    "df"
   ]
  },
  {
   "cell_type": "markdown",
   "id": "905b506a",
   "metadata": {},
   "source": [
    "**Null hypotesis**: The speed of old and new machines are equal <br>\n",
    "**Alternative hypotesis** : a new machine will pack faster on the average than the old machine <br>\n",
    "**Significance level**: 0.05(%) <br>\n",
    "**As we want to compare the mean of two group,we will use T-test** <br>\n",
    "**One-tailed distribution** - We set condition in alternative hypotesis,that the new machine is faster than the older one <br>\n",
    "**Sample sizes** : n1=10,n2=10"
   ]
  },
  {
   "cell_type": "code",
   "execution_count": 128,
   "id": "73fc4eb0",
   "metadata": {},
   "outputs": [
    {
     "data": {
      "text/plain": [
       "43.230000000000004"
      ]
     },
     "execution_count": 128,
     "metadata": {},
     "output_type": "execute_result"
    }
   ],
   "source": [
    "old_mean = df['old_machine'].mean()\n",
    "old_mean"
   ]
  },
  {
   "cell_type": "code",
   "execution_count": 129,
   "id": "8fce91a8",
   "metadata": {},
   "outputs": [
    {
     "data": {
      "text/plain": [
       "42.14"
      ]
     },
     "execution_count": 129,
     "metadata": {},
     "output_type": "execute_result"
    }
   ],
   "source": [
    "new_mean = df['new_machine'].mean()\n",
    "new_mean"
   ]
  },
  {
   "cell_type": "code",
   "execution_count": 130,
   "id": "d388a3e9",
   "metadata": {},
   "outputs": [
    {
     "data": {
      "text/plain": [
       "0.7498888806572157"
      ]
     },
     "execution_count": 130,
     "metadata": {},
     "output_type": "execute_result"
    }
   ],
   "source": [
    "old_std = df['old_machine'].std()\n",
    "old_std"
   ]
  },
  {
   "cell_type": "code",
   "execution_count": 131,
   "id": "12461d68",
   "metadata": {},
   "outputs": [
    {
     "data": {
      "text/plain": [
       "0.6834552736727638"
      ]
     },
     "execution_count": 131,
     "metadata": {},
     "output_type": "execute_result"
    }
   ],
   "source": [
    "new_std = df['new_machine'].std()\n",
    "new_std"
   ]
  },
  {
   "cell_type": "markdown",
   "id": "c88dbac2",
   "metadata": {},
   "source": [
    "### Summary statistics about old machine"
   ]
  },
  {
   "cell_type": "code",
   "execution_count": 132,
   "id": "6be7e704",
   "metadata": {},
   "outputs": [],
   "source": [
    "old_mean = 43.23 # The average speed of an old machine\n",
    "old_std = 0.74\n",
    "n1 = 10 # Sample size of an old machine"
   ]
  },
  {
   "cell_type": "markdown",
   "id": "050963e2",
   "metadata": {},
   "source": [
    "### Summary statistics about new machine"
   ]
  },
  {
   "cell_type": "code",
   "execution_count": 133,
   "id": "98b168af",
   "metadata": {},
   "outputs": [],
   "source": [
    "new_mean = 42.14\n",
    "new_std = 0.68\n",
    "n2 = 10"
   ]
  },
  {
   "cell_type": "markdown",
   "id": "dedaf7ad",
   "metadata": {},
   "source": [
    "### Finding T-statistic"
   ]
  },
  {
   "cell_type": "code",
   "execution_count": 138,
   "id": "4e1e0795",
   "metadata": {},
   "outputs": [
    {
     "name": "stdout",
     "output_type": "stream",
     "text": [
      "T Statistic is:  -3.4297764266251507\n"
     ]
    }
   ],
   "source": [
    "pooled_sample_std = math.sqrt(((n1-1)*old_std**2 + (n2-1)*new_std**2)/(n1+n2-2))\n",
    "statistic = (new_mean-old_mean)/(pooled_sample_std*math.sqrt((1/n1)+(1/n2)))\n",
    "print(\"T Statistic is: \", statistic)"
   ]
  },
  {
   "cell_type": "markdown",
   "id": "28f8987c",
   "metadata": {},
   "source": [
    "### Finding T-value"
   ]
  },
  {
   "cell_type": "markdown",
   "id": "bd84544c",
   "metadata": {},
   "source": [
    "According to significance level and degree of freedom we can find t-value from the t-test table"
   ]
  },
  {
   "cell_type": "markdown",
   "id": "1faa6b0f",
   "metadata": {},
   "source": [
    "### Degree of freedom"
   ]
  },
  {
   "cell_type": "code",
   "execution_count": 141,
   "id": "38ea711b",
   "metadata": {},
   "outputs": [],
   "source": [
    "degree_of_freedom = (10-1)+(10-1)  # According to degree of freedom and significance level we can find t-value from t-test table"
   ]
  },
  {
   "cell_type": "markdown",
   "id": "6a170992",
   "metadata": {},
   "source": [
    "The t value with α = 0.05 and 21 degrees of freedom is 1.734"
   ]
  },
  {
   "cell_type": "markdown",
   "id": "707ae86f",
   "metadata": {},
   "source": [
    "**As T-statistic(3.42) is greater than t-value(1.734),we reject the Null Hypotesis,that the average speed of two maschines are same,hence we can accept alternative hypotesis,that the new machine is faster than the older one**"
   ]
  },
  {
   "cell_type": "markdown",
   "id": "2d0eb50a",
   "metadata": {},
   "source": [
    "## Another method"
   ]
  },
  {
   "cell_type": "code",
   "execution_count": 140,
   "id": "b0410246",
   "metadata": {},
   "outputs": [
    {
     "name": "stdout",
     "output_type": "stream",
     "text": [
      "P value is:  0.9985061251572739\n",
      "Critical Value of z is:  -2.10092204024096\n"
     ]
    }
   ],
   "source": [
    "from scipy.stats import t\n",
    "\n",
    "print(\"P value is: \", 1- t.cdf(statistic,n1+n2-2))\n",
    "print(\"Critical Value of z is: \", t.ppf(0.025, n1+n2-2)) #alpha is 0.05"
   ]
  },
  {
   "cell_type": "markdown",
   "id": "12f62408",
   "metadata": {},
   "source": [
    "**We will accept the Null hypothesis, because the critical value is higher than the statistics value and the P-value is more than the significance value**"
   ]
  },
  {
   "cell_type": "code",
   "execution_count": null,
   "id": "df1eb82b",
   "metadata": {},
   "outputs": [],
   "source": []
  },
  {
   "cell_type": "markdown",
   "id": "0ced0e60",
   "metadata": {},
   "source": [
    "# Problem 2"
   ]
  },
  {
   "cell_type": "code",
   "execution_count": null,
   "id": "e979531f",
   "metadata": {},
   "outputs": [],
   "source": []
  },
  {
   "cell_type": "markdown",
   "id": "3a88c74c",
   "metadata": {},
   "source": [
    "An additional problem (not mandatory): In this case we can't assume that the population variances are equal. Hence in this case we cannot pool the variances. Independent random samples of 17 sophomores and 13 juniors attending a large university yield the following data on grade point averages. Data is provided in the file files_for_lab/student_gpa.txt. At the 5% significance level, do the data provide sufficient evidence to conclude that the mean GPAs of sophomores and juniors at the university differ?\n",
    "\n",
    "Test statistics can be calculated as: link to the image - Test statistics calculation for Unpooled Variance Case\n",
    "\n",
    "Degrees of freedom is (n1-1)+(n2-1)."
   ]
  },
  {
   "cell_type": "code",
   "execution_count": 92,
   "id": "a4ba0765",
   "metadata": {},
   "outputs": [],
   "source": [
    "df1 = pd.read_csv('files_for_lab/student_gpa.csv')"
   ]
  },
  {
   "cell_type": "code",
   "execution_count": 93,
   "id": "b55a5331",
   "metadata": {},
   "outputs": [
    {
     "data": {
      "text/html": [
       "<div>\n",
       "<style scoped>\n",
       "    .dataframe tbody tr th:only-of-type {\n",
       "        vertical-align: middle;\n",
       "    }\n",
       "\n",
       "    .dataframe tbody tr th {\n",
       "        vertical-align: top;\n",
       "    }\n",
       "\n",
       "    .dataframe thead th {\n",
       "        text-align: right;\n",
       "    }\n",
       "</style>\n",
       "<table border=\"1\" class=\"dataframe\">\n",
       "  <thead>\n",
       "    <tr style=\"text-align: right;\">\n",
       "      <th></th>\n",
       "      <th>Sophomores</th>\n",
       "      <th>Juniors</th>\n",
       "    </tr>\n",
       "  </thead>\n",
       "  <tbody>\n",
       "    <tr>\n",
       "      <th>0</th>\n",
       "      <td>3.04</td>\n",
       "      <td>2.56</td>\n",
       "    </tr>\n",
       "    <tr>\n",
       "      <th>1</th>\n",
       "      <td>1.71</td>\n",
       "      <td>2.77</td>\n",
       "    </tr>\n",
       "    <tr>\n",
       "      <th>2</th>\n",
       "      <td>3.30</td>\n",
       "      <td>2.70</td>\n",
       "    </tr>\n",
       "    <tr>\n",
       "      <th>3</th>\n",
       "      <td>2.88</td>\n",
       "      <td>3.00</td>\n",
       "    </tr>\n",
       "    <tr>\n",
       "      <th>4</th>\n",
       "      <td>2.11</td>\n",
       "      <td>2.98</td>\n",
       "    </tr>\n",
       "    <tr>\n",
       "      <th>5</th>\n",
       "      <td>2.60</td>\n",
       "      <td>3.47</td>\n",
       "    </tr>\n",
       "    <tr>\n",
       "      <th>6</th>\n",
       "      <td>2.92</td>\n",
       "      <td>3.26</td>\n",
       "    </tr>\n",
       "    <tr>\n",
       "      <th>7</th>\n",
       "      <td>3.60</td>\n",
       "      <td>3.20</td>\n",
       "    </tr>\n",
       "    <tr>\n",
       "      <th>8</th>\n",
       "      <td>2.28</td>\n",
       "      <td>3.19</td>\n",
       "    </tr>\n",
       "    <tr>\n",
       "      <th>9</th>\n",
       "      <td>2.82</td>\n",
       "      <td>2.65</td>\n",
       "    </tr>\n",
       "    <tr>\n",
       "      <th>10</th>\n",
       "      <td>3.03</td>\n",
       "      <td>3.00</td>\n",
       "    </tr>\n",
       "    <tr>\n",
       "      <th>11</th>\n",
       "      <td>3.13</td>\n",
       "      <td>3.39</td>\n",
       "    </tr>\n",
       "    <tr>\n",
       "      <th>12</th>\n",
       "      <td>2.86</td>\n",
       "      <td>2.58</td>\n",
       "    </tr>\n",
       "    <tr>\n",
       "      <th>13</th>\n",
       "      <td>3.49</td>\n",
       "      <td>NaN</td>\n",
       "    </tr>\n",
       "    <tr>\n",
       "      <th>14</th>\n",
       "      <td>3.11</td>\n",
       "      <td>NaN</td>\n",
       "    </tr>\n",
       "    <tr>\n",
       "      <th>15</th>\n",
       "      <td>2.13</td>\n",
       "      <td>NaN</td>\n",
       "    </tr>\n",
       "    <tr>\n",
       "      <th>16</th>\n",
       "      <td>3.27</td>\n",
       "      <td>NaN</td>\n",
       "    </tr>\n",
       "  </tbody>\n",
       "</table>\n",
       "</div>"
      ],
      "text/plain": [
       "    Sophomores  Juniors\n",
       "0         3.04     2.56\n",
       "1         1.71     2.77\n",
       "2         3.30     2.70\n",
       "3         2.88     3.00\n",
       "4         2.11     2.98\n",
       "5         2.60     3.47\n",
       "6         2.92     3.26\n",
       "7         3.60     3.20\n",
       "8         2.28     3.19\n",
       "9         2.82     2.65\n",
       "10        3.03     3.00\n",
       "11        3.13     3.39\n",
       "12        2.86     2.58\n",
       "13        3.49      NaN\n",
       "14        3.11      NaN\n",
       "15        2.13      NaN\n",
       "16        3.27      NaN"
      ]
     },
     "execution_count": 93,
     "metadata": {},
     "output_type": "execute_result"
    }
   ],
   "source": [
    "df1"
   ]
  },
  {
   "cell_type": "markdown",
   "id": "b8b5d478",
   "metadata": {},
   "source": [
    "**Null Hypotesis**: mean GPAs of sophomores and juniors at the university are equal <br>\n",
    "**Alternative Hypotesis**:mean GPAs of sophomores and juniors at the university are different"
   ]
  },
  {
   "cell_type": "code",
   "execution_count": 103,
   "id": "cd2b000b",
   "metadata": {},
   "outputs": [
    {
     "data": {
      "text/plain": [
       "Ttest_indResult(statistic=-0.9231495630900278, pvalue=0.3642180675348565)"
      ]
     },
     "execution_count": 103,
     "metadata": {},
     "output_type": "execute_result"
    }
   ],
   "source": [
    "import scipy\n",
    "scipy.stats.ttest_ind(df1['Sophomores'], df1['Juniors'], axis=0, equal_var=False, nan_policy='omit',\n",
    "                                                                            alternative='two-sided')"
   ]
  },
  {
   "cell_type": "markdown",
   "id": "5d9a2153",
   "metadata": {},
   "source": [
    "**As p-value is greater than significance level(0.005) we accept the Null Hypotesis**"
   ]
  },
  {
   "cell_type": "code",
   "execution_count": null,
   "id": "049ca533",
   "metadata": {},
   "outputs": [],
   "source": []
  }
 ],
 "metadata": {
  "kernelspec": {
   "display_name": "Python 3",
   "language": "python",
   "name": "python3"
  },
  "language_info": {
   "codemirror_mode": {
    "name": "ipython",
    "version": 3
   },
   "file_extension": ".py",
   "mimetype": "text/x-python",
   "name": "python",
   "nbconvert_exporter": "python",
   "pygments_lexer": "ipython3",
   "version": "3.8.8"
  }
 },
 "nbformat": 4,
 "nbformat_minor": 5
}
